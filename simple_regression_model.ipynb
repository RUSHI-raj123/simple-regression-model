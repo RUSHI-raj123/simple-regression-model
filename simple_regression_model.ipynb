{
  "nbformat": 4,
  "nbformat_minor": 0,
  "metadata": {
    "colab": {
      "provenance": [],
      "authorship_tag": "ABX9TyNYqcb/MCnQdoLNVv0/gdId",
      "include_colab_link": true
    },
    "kernelspec": {
      "name": "python3",
      "display_name": "Python 3"
    },
    "language_info": {
      "name": "python"
    }
  },
  "cells": [
    {
      "cell_type": "markdown",
      "metadata": {
        "id": "view-in-github",
        "colab_type": "text"
      },
      "source": [
        "<a href=\"https://colab.research.google.com/github/RUSHI-raj123/simple-regression-model/blob/main/simple_regression_model.ipynb\" target=\"_parent\"><img src=\"https://colab.research.google.com/assets/colab-badge.svg\" alt=\"Open In Colab\"/></a>"
      ]
    },
    {
      "cell_type": "code",
      "execution_count": null,
      "metadata": {
        "id": "6VzAurb_yYcE"
      },
      "outputs": [],
      "source": [
        "# Sample data\n",
        "X = [0.1, 0.2, 0.3, 0.4]\n",
        "Y = [2.2, 2.4, 2.6, 2.8]\n",
        "\n",
        "# Initialize parameters\n",
        "m = 0\n",
        "c = 0\n",
        "\n",
        "# Hyperparameters\n",
        "learning_rate = 0.1\n",
        "iterations = 1000\n",
        "n = len(X)\n",
        "\n",
        "# Gradient Descent Algorithm\n",
        "for _ in range(iterations):\n",
        "    y_pred = [m * x + c for x in X]\n",
        "    error = [y - y_hat for y, y_hat in zip(Y, y_pred)]\n",
        "\n",
        "    # Compute gradients\n",
        "    dm = -(2/n) * sum(x * e for x, e in zip(X, error))\n",
        "    dc = -(2/n) * sum(error)\n",
        "\n",
        "    # Update parameters\n",
        "    m = m - learning_rate * dm\n",
        "    c = c - learning_rate * dc\n",
        "\n",
        "# Output the final values\n",
        "print(f\"Final slope (m): {m:.4f}\")\n",
        "print(f\"Final intercept (c): {c:.4f}\")\n"
      ]
    }
  ]
}