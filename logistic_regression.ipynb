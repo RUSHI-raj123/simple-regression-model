{
  "nbformat": 4,
  "nbformat_minor": 0,
  "metadata": {
    "colab": {
      "provenance": [],
      "authorship_tag": "ABX9TyM/nes9mDGWuSLepMaRn4it",
      "include_colab_link": true
    },
    "kernelspec": {
      "name": "python3",
      "display_name": "Python 3"
    },
    "language_info": {
      "name": "python"
    }
  },
  "cells": [
    {
      "cell_type": "markdown",
      "metadata": {
        "id": "view-in-github",
        "colab_type": "text"
      },
      "source": [
        "<a href=\"https://colab.research.google.com/github/RUSHI-raj123/simple-regression-model/blob/main/logistic_regression.ipynb\" target=\"_parent\"><img src=\"https://colab.research.google.com/assets/colab-badge.svg\" alt=\"Open In Colab\"/></a>"
      ]
    },
    {
      "cell_type": "code",
      "execution_count": null,
      "metadata": {
        "id": "WdPczrKqnyDB"
      },
      "outputs": [],
      "source": [
        "import numpy as np\n",
        "\n",
        "# Input data (X1, X2) and output labels (Y)\n",
        "X = np.array([[0.1, 0.2],\n",
        "              [0.2, 0.3],\n",
        "              [0.3, 0.4],\n",
        "              [-1, -2],\n",
        "              [-3, -4]])\n",
        "\n",
        "y = np.array([[1],\n",
        "              [1],\n",
        "              [1],\n",
        "              [0],\n",
        "              [0]])\n",
        "\n",
        "# Sigmoid function\n",
        "def sigmoid(z):\n",
        "    return 1 / (1 + np.exp(-z))\n",
        "\n",
        "# Initialize parameters (weights and bias)\n",
        "weights = np.zeros((2, 1))  # for X1 and X2\n",
        "bias = 0\n",
        "\n",
        "# Learning rate and number of iterations\n",
        "learning_rate = 0.1\n",
        "iterations = 1000\n",
        "\n",
        "# Training using gradient descent\n",
        "for i in range(iterations):\n",
        "    # Forward propagation\n",
        "    z = np.dot(X, weights) + bias\n",
        "    y_pred = sigmoid(z)\n",
        "\n",
        "    # Compute cost (optional for debugging)\n",
        "    # cost = -np.mean(y * np.log(y_pred + 1e-15) + (1 - y) * np.log(1 - y_pred + 1e-15))\n",
        "\n",
        "    # Backward propagation (gradients)\n",
        "    dw = np.dot(X.T, (y_pred - y)) / y.shape[0]\n",
        "    db = np.mean(y_pred - y)\n",
        "\n",
        "    # Update parameters\n",
        "    weights -= learning_rate * dw\n",
        "    bias -= learning_rate * db\n",
        "\n",
        "# Final parameters\n",
        "print(\"Updated weights:\\n\", weights)\n",
        "print(\"Updated bias:\\n\", bias)\n"
      ]
    }
  ]
}